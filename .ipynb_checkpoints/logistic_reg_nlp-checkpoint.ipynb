{
 "cells": [
  {
   "cell_type": "code",
   "execution_count": 2,
   "metadata": {},
   "outputs": [
    {
     "name": "stderr",
     "output_type": "stream",
     "text": [
      "C:\\Users\\Lales\\Anaconda3\\lib\\site-packages\\numpy\\_distributor_init.py:32: UserWarning: loaded more than 1 DLL from .libs:\n",
      "C:\\Users\\Lales\\Anaconda3\\lib\\site-packages\\numpy\\.libs\\libopenblas.PYQHXLVVQ7VESDPUVUADXEVJOBGHJPAY.gfortran-win_amd64.dll\n",
      "C:\\Users\\Lales\\Anaconda3\\lib\\site-packages\\numpy\\.libs\\libopenblas.XWYDX2IKJW2NMTWSFYNGFUWKQU3LYTCZ.gfortran-win_amd64.dll\n",
      "  stacklevel=1)\n"
     ]
    }
   ],
   "source": [
    "import numpy as np\n",
    "import pandas as pd\n",
    "import re \n",
    "from sklearn.metrics import classification_report,confusion_matrix\n",
    "from sklearn.linear_model import LogisticRegression\n",
    "import matplotlib.pyplot as plt\n",
    "from sklearn.svm import SVC\n",
    "from sklearn.model_selection import GridSearchCV\n",
    "from nltk.corpus import stopwords\n",
    "from scipy import optimize\n",
    "from sklearn.feature_extraction.text import TfidfTransformer\n",
    "from sklearn.pipeline import Pipeline\n",
    "from sklearn.naive_bayes import MultinomialNB\n",
    "from nltk.stem import PorterStemmer\n",
    "import string\n",
    "from scipy.io import loadmat\n",
    "from sklearn.feature_extraction.text import CountVectorizer\n",
    "import warnings\n",
    "warnings.filterwarnings(\"ignore\")\n",
    "from sklearn.model_selection import train_test_split\n",
    "from utils import data_splitter,text_process,build_freqs"
   ]
  },
  {
   "cell_type": "code",
   "execution_count": 3,
   "metadata": {},
   "outputs": [],
   "source": [
    "\n",
    "X_train, X_test, y_train, y_test,train_lab,test_lab = data_splitter('resources/dataset.csv')\n"
   ]
  },
  {
   "cell_type": "code",
   "execution_count": 4,
   "metadata": {},
   "outputs": [],
   "source": [
    "freqs = build_freqs(X_train, train_lab)"
   ]
  },
  {
   "cell_type": "code",
   "execution_count": 8,
   "metadata": {},
   "outputs": [],
   "source": [
    "def sigmoid(z):\n",
    "    h = 1 / (1 + np.exp(-z))\n",
    "    return h\n",
    "\n",
    "def gradientDescent(x, y, theta, alpha, num_iters):\n",
    "    m = x.shape[0]\n",
    "    for i in range(0, num_iters):\n",
    "    \n",
    "        z = np.dot(x,theta)\n",
    "        h = sigmoid(z)\n",
    "        J = -1./m * (np.dot(y.transpose(), np.log(h)) + np.dot((1-y).transpose(),np.log(1-h)))    \n",
    "\n",
    "        theta = theta - (alpha/m) * np.dot(x.transpose(),(h-y))\n",
    "        \n",
    "  \n",
    "    J = float(J)\n",
    "    return J, theta\n",
    "\n",
    "\n",
    "def extract_features(text, freqs):\n",
    "    x = np.zeros((1, 3))\n",
    "    x[0,0] = 1\n",
    "    word_l = text_process(text)\n",
    "    for word in word_l:\n",
    "        x[0,1] += freqs.get((word, 1.0),0)\n",
    "        x[0,2] += freqs.get((word, 0.0),0)\n",
    "    assert(x.shape == (1, 3))\n",
    "    return x"
   ]
  },
  {
   "cell_type": "markdown",
   "metadata": {},
   "source": [
    "## Training "
   ]
  },
  {
   "cell_type": "code",
   "execution_count": 9,
   "metadata": {},
   "outputs": [
    {
     "name": "stdout",
     "output_type": "stream",
     "text": [
      "The cost after training is 0.49099771.\n",
      "The resulting vector of weights is [-6e-08, 0.00031954, -0.00038018]\n"
     ]
    }
   ],
   "source": [
    "X = np.zeros((len(X_train), 3))\n",
    "for i in range(len(X_train)):\n",
    "    X[i, :]= extract_features(X_train[i], freqs)\n",
    "J, theta = gradientDescent(X, y_train, np.zeros((3, 1)), 1e-9, 1500)\n",
    "\n",
    "print(f\"The cost after training is {J:.8f}.\")\n",
    "print(f\"The resulting vector of weights is {[round(t, 8) for t in np.squeeze(theta)]}\")"
   ]
  },
  {
   "cell_type": "code",
   "execution_count": 10,
   "metadata": {},
   "outputs": [],
   "source": [
    "def predict_text(text, freqs, theta):\n",
    "    x = extract_features(text,freqs)\n",
    "    y_pred = sigmoid(np.dot(x,theta))\n",
    "    return y_pred"
   ]
  },
  {
   "cell_type": "code",
   "execution_count": 12,
   "metadata": {},
   "outputs": [],
   "source": [
    "def test_logistic_regression(test_x, test_y, freqs, theta):\n",
    "    y_hat = []\n",
    "    for text in test_x:\n",
    "        y_pred = predict_text(text, freqs, theta)\n",
    "        if y_pred > 0.5:\n",
    "            y_hat.append(1)\n",
    "        else:\n",
    "            y_hat.append(0)\n",
    "            \n",
    "    \n",
    "    return y_hat"
   ]
  },
  {
   "cell_type": "code",
   "execution_count": 13,
   "metadata": {},
   "outputs": [
    {
     "name": "stdout",
     "output_type": "stream",
     "text": [
      "Logistic regression model's accuracy = 0.8238\n"
     ]
    }
   ],
   "source": [
    "y_hat = test_logistic_regression(X_test, y_test, freqs, theta)\n",
    "accuracy = (y_hat==np.squeeze(y_test)).sum()/len(X_test)\n",
    "print(f\"Logistic regression model's accuracy = {accuracy:.4f}\")"
   ]
  },
  {
   "cell_type": "code",
   "execution_count": 14,
   "metadata": {},
   "outputs": [
    {
     "name": "stdout",
     "output_type": "stream",
     "text": [
      "              precision    recall  f1-score   support\n",
      "\n",
      "         0.0       0.84      0.80      0.82     20000\n",
      "         1.0       0.81      0.85      0.83     20000\n",
      "\n",
      "    accuracy                           0.82     40000\n",
      "   macro avg       0.82      0.82      0.82     40000\n",
      "weighted avg       0.82      0.82      0.82     40000\n",
      "\n"
     ]
    }
   ],
   "source": [
    "print(classification_report(y_test,y_hat))"
   ]
  },
  {
   "cell_type": "code",
   "execution_count": 15,
   "metadata": {},
   "outputs": [
    {
     "name": "stdout",
     "output_type": "stream",
     "text": [
      "[[0.89242283]]\n",
      "Humor text\n"
     ]
    }
   ],
   "source": [
    "my_text =\"What do you call a bee that can’t make up its mind? A maybe.\"\n",
    "y_hat = predict_text(my_text, freqs, theta)\n",
    "print(y_hat)\n",
    "if y_hat > 0.5:\n",
    "    print('Humor text')\n",
    "else: \n",
    "    print('Non_Humor text')"
   ]
  },
  {
   "cell_type": "code",
   "execution_count": 16,
   "metadata": {},
   "outputs": [
    {
     "name": "stdout",
     "output_type": "stream",
     "text": [
      "[[0.4919507]]\n",
      "Non_Humor text\n"
     ]
    }
   ],
   "source": [
    "my_text =\"I miss you\"\n",
    "y_hat = predict_text(my_text, freqs, theta)\n",
    "print(y_hat)\n",
    "if y_hat > 0.5:\n",
    "    print('Humor text')\n",
    "else: \n",
    "    print('Non_Humor text')"
   ]
  },
  {
   "cell_type": "markdown",
   "metadata": {},
   "source": [
    "## Using Sklearn"
   ]
  },
  {
   "cell_type": "markdown",
   "metadata": {},
   "source": [
    "### Logistic regression"
   ]
  },
  {
   "cell_type": "code",
   "execution_count": 3,
   "metadata": {},
   "outputs": [],
   "source": [
    "df = pd.read_csv('resources/dataset.csv')\n",
    "X_train, X_test, y_train, y_test=train_test_split(df['text'], df['humor'], test_size=0.2)"
   ]
  },
  {
   "cell_type": "code",
   "execution_count": 5,
   "metadata": {},
   "outputs": [],
   "source": [
    "pipeline = Pipeline([\n",
    "    ('bow', CountVectorizer(analyzer=text_process)), \n",
    "    ('tfidf', TfidfTransformer()), \n",
    "('classifier', GridSearchCV(LogisticRegression(),param_grid={'C': np.logspace(-3,3,6),'max_iter':[10,100,500], \"penalty\":[\"l1\",\"l2\"]} ,refit=True,verbose=5))\n",
    "])"
   ]
  },
  {
   "cell_type": "code",
   "execution_count": 6,
   "metadata": {},
   "outputs": [
    {
     "name": "stdout",
     "output_type": "stream",
     "text": [
      "Fitting 5 folds for each of 36 candidates, totalling 180 fits\n",
      "[CV 1/5] END ....C=0.001, max_iter=10, penalty=l1;, score=nan total time=   0.0s\n",
      "[CV 2/5] END ....C=0.001, max_iter=10, penalty=l1;, score=nan total time=   0.0s\n",
      "[CV 3/5] END ....C=0.001, max_iter=10, penalty=l1;, score=nan total time=   0.0s\n",
      "[CV 4/5] END ....C=0.001, max_iter=10, penalty=l1;, score=nan total time=   0.0s\n",
      "[CV 5/5] END ....C=0.001, max_iter=10, penalty=l1;, score=nan total time=   0.0s\n",
      "[CV 1/5] END ..C=0.001, max_iter=10, penalty=l2;, score=0.834 total time=   0.2s\n",
      "[CV 2/5] END ..C=0.001, max_iter=10, penalty=l2;, score=0.837 total time=   0.0s\n",
      "[CV 3/5] END ..C=0.001, max_iter=10, penalty=l2;, score=0.833 total time=   0.1s\n",
      "[CV 4/5] END ..C=0.001, max_iter=10, penalty=l2;, score=0.831 total time=   0.0s\n",
      "[CV 5/5] END ..C=0.001, max_iter=10, penalty=l2;, score=0.832 total time=   0.1s\n",
      "[CV 1/5] END ...C=0.001, max_iter=100, penalty=l1;, score=nan total time=   0.0s\n",
      "[CV 2/5] END ...C=0.001, max_iter=100, penalty=l1;, score=nan total time=   0.0s\n",
      "[CV 3/5] END ...C=0.001, max_iter=100, penalty=l1;, score=nan total time=   0.0s\n",
      "[CV 4/5] END ...C=0.001, max_iter=100, penalty=l1;, score=nan total time=   0.0s\n",
      "[CV 5/5] END ...C=0.001, max_iter=100, penalty=l1;, score=nan total time=   0.0s\n",
      "[CV 1/5] END .C=0.001, max_iter=100, penalty=l2;, score=0.834 total time=   0.1s\n",
      "[CV 2/5] END .C=0.001, max_iter=100, penalty=l2;, score=0.837 total time=   0.1s\n",
      "[CV 3/5] END .C=0.001, max_iter=100, penalty=l2;, score=0.833 total time=   0.1s\n",
      "[CV 4/5] END .C=0.001, max_iter=100, penalty=l2;, score=0.831 total time=   0.0s\n",
      "[CV 5/5] END .C=0.001, max_iter=100, penalty=l2;, score=0.832 total time=   0.1s\n",
      "[CV 1/5] END ...C=0.001, max_iter=500, penalty=l1;, score=nan total time=   0.0s\n",
      "[CV 2/5] END ...C=0.001, max_iter=500, penalty=l1;, score=nan total time=   0.0s\n",
      "[CV 3/5] END ...C=0.001, max_iter=500, penalty=l1;, score=nan total time=   0.0s\n",
      "[CV 4/5] END ...C=0.001, max_iter=500, penalty=l1;, score=nan total time=   0.0s\n",
      "[CV 5/5] END ...C=0.001, max_iter=500, penalty=l1;, score=nan total time=   0.0s\n",
      "[CV 1/5] END .C=0.001, max_iter=500, penalty=l2;, score=0.834 total time=   0.0s\n",
      "[CV 2/5] END .C=0.001, max_iter=500, penalty=l2;, score=0.837 total time=   0.1s\n",
      "[CV 3/5] END .C=0.001, max_iter=500, penalty=l2;, score=0.833 total time=   0.0s\n",
      "[CV 4/5] END .C=0.001, max_iter=500, penalty=l2;, score=0.831 total time=   0.1s\n",
      "[CV 5/5] END .C=0.001, max_iter=500, penalty=l2;, score=0.832 total time=   0.0s\n",
      "[CV 1/5] END C=0.015848931924611134, max_iter=10, penalty=l1;, score=nan total time=   0.0s\n",
      "[CV 2/5] END C=0.015848931924611134, max_iter=10, penalty=l1;, score=nan total time=   0.0s\n",
      "[CV 3/5] END C=0.015848931924611134, max_iter=10, penalty=l1;, score=nan total time=   0.0s\n",
      "[CV 4/5] END C=0.015848931924611134, max_iter=10, penalty=l1;, score=nan total time=   0.0s\n",
      "[CV 5/5] END C=0.015848931924611134, max_iter=10, penalty=l1;, score=nan total time=   0.0s\n",
      "[CV 1/5] END C=0.015848931924611134, max_iter=10, penalty=l2;, score=0.852 total time=   0.1s\n",
      "[CV 2/5] END C=0.015848931924611134, max_iter=10, penalty=l2;, score=0.855 total time=   0.1s\n",
      "[CV 3/5] END C=0.015848931924611134, max_iter=10, penalty=l2;, score=0.853 total time=   0.1s\n",
      "[CV 4/5] END C=0.015848931924611134, max_iter=10, penalty=l2;, score=0.849 total time=   0.1s\n",
      "[CV 5/5] END C=0.015848931924611134, max_iter=10, penalty=l2;, score=0.852 total time=   0.1s\n",
      "[CV 1/5] END C=0.015848931924611134, max_iter=100, penalty=l1;, score=nan total time=   0.0s\n",
      "[CV 2/5] END C=0.015848931924611134, max_iter=100, penalty=l1;, score=nan total time=   0.0s\n",
      "[CV 3/5] END C=0.015848931924611134, max_iter=100, penalty=l1;, score=nan total time=   0.0s\n",
      "[CV 4/5] END C=0.015848931924611134, max_iter=100, penalty=l1;, score=nan total time=   0.0s\n",
      "[CV 5/5] END C=0.015848931924611134, max_iter=100, penalty=l1;, score=nan total time=   0.0s\n",
      "[CV 1/5] END C=0.015848931924611134, max_iter=100, penalty=l2;, score=0.853 total time=   0.5s\n",
      "[CV 2/5] END C=0.015848931924611134, max_iter=100, penalty=l2;, score=0.856 total time=   0.2s\n",
      "[CV 3/5] END C=0.015848931924611134, max_iter=100, penalty=l2;, score=0.854 total time=   0.3s\n",
      "[CV 4/5] END C=0.015848931924611134, max_iter=100, penalty=l2;, score=0.850 total time=   0.4s\n",
      "[CV 5/5] END C=0.015848931924611134, max_iter=100, penalty=l2;, score=0.853 total time=   0.4s\n",
      "[CV 1/5] END C=0.015848931924611134, max_iter=500, penalty=l1;, score=nan total time=   0.0s\n",
      "[CV 2/5] END C=0.015848931924611134, max_iter=500, penalty=l1;, score=nan total time=   0.0s\n",
      "[CV 3/5] END C=0.015848931924611134, max_iter=500, penalty=l1;, score=nan total time=   0.0s\n",
      "[CV 4/5] END C=0.015848931924611134, max_iter=500, penalty=l1;, score=nan total time=   0.0s\n",
      "[CV 5/5] END C=0.015848931924611134, max_iter=500, penalty=l1;, score=nan total time=   0.0s\n",
      "[CV 1/5] END C=0.015848931924611134, max_iter=500, penalty=l2;, score=0.853 total time=   0.4s\n",
      "[CV 2/5] END C=0.015848931924611134, max_iter=500, penalty=l2;, score=0.856 total time=   0.2s\n",
      "[CV 3/5] END C=0.015848931924611134, max_iter=500, penalty=l2;, score=0.854 total time=   0.3s\n",
      "[CV 4/5] END C=0.015848931924611134, max_iter=500, penalty=l2;, score=0.850 total time=   0.4s\n",
      "[CV 5/5] END C=0.015848931924611134, max_iter=500, penalty=l2;, score=0.853 total time=   0.4s\n",
      "[CV 1/5] END C=0.25118864315095796, max_iter=10, penalty=l1;, score=nan total time=   0.0s\n",
      "[CV 2/5] END C=0.25118864315095796, max_iter=10, penalty=l1;, score=nan total time=   0.0s\n",
      "[CV 3/5] END C=0.25118864315095796, max_iter=10, penalty=l1;, score=nan total time=   0.0s\n",
      "[CV 4/5] END C=0.25118864315095796, max_iter=10, penalty=l1;, score=nan total time=   0.0s\n",
      "[CV 5/5] END C=0.25118864315095796, max_iter=10, penalty=l1;, score=nan total time=   0.0s\n",
      "[CV 1/5] END C=0.25118864315095796, max_iter=10, penalty=l2;, score=0.857 total time=   0.1s\n",
      "[CV 2/5] END C=0.25118864315095796, max_iter=10, penalty=l2;, score=0.860 total time=   0.1s\n",
      "[CV 3/5] END C=0.25118864315095796, max_iter=10, penalty=l2;, score=0.859 total time=   0.1s\n",
      "[CV 4/5] END C=0.25118864315095796, max_iter=10, penalty=l2;, score=0.855 total time=   0.1s\n",
      "[CV 5/5] END C=0.25118864315095796, max_iter=10, penalty=l2;, score=0.857 total time=   0.1s\n",
      "[CV 1/5] END C=0.25118864315095796, max_iter=100, penalty=l1;, score=nan total time=   0.0s\n",
      "[CV 2/5] END C=0.25118864315095796, max_iter=100, penalty=l1;, score=nan total time=   0.0s\n",
      "[CV 3/5] END C=0.25118864315095796, max_iter=100, penalty=l1;, score=nan total time=   0.0s\n",
      "[CV 4/5] END C=0.25118864315095796, max_iter=100, penalty=l1;, score=nan total time=   0.0s\n",
      "[CV 5/5] END C=0.25118864315095796, max_iter=100, penalty=l1;, score=nan total time=   0.0s\n",
      "[CV 1/5] END C=0.25118864315095796, max_iter=100, penalty=l2;, score=0.887 total time=   1.2s\n",
      "[CV 2/5] END C=0.25118864315095796, max_iter=100, penalty=l2;, score=0.889 total time=   1.2s\n",
      "[CV 3/5] END C=0.25118864315095796, max_iter=100, penalty=l2;, score=0.890 total time=   1.2s\n",
      "[CV 4/5] END C=0.25118864315095796, max_iter=100, penalty=l2;, score=0.887 total time=   1.4s\n",
      "[CV 5/5] END C=0.25118864315095796, max_iter=100, penalty=l2;, score=0.888 total time=   1.3s\n",
      "[CV 1/5] END C=0.25118864315095796, max_iter=500, penalty=l1;, score=nan total time=   0.0s\n",
      "[CV 2/5] END C=0.25118864315095796, max_iter=500, penalty=l1;, score=nan total time=   0.0s\n",
      "[CV 3/5] END C=0.25118864315095796, max_iter=500, penalty=l1;, score=nan total time=   0.0s\n",
      "[CV 4/5] END C=0.25118864315095796, max_iter=500, penalty=l1;, score=nan total time=   0.0s\n",
      "[CV 5/5] END C=0.25118864315095796, max_iter=500, penalty=l1;, score=nan total time=   0.0s\n",
      "[CV 1/5] END C=0.25118864315095796, max_iter=500, penalty=l2;, score=0.887 total time=   1.1s\n",
      "[CV 2/5] END C=0.25118864315095796, max_iter=500, penalty=l2;, score=0.889 total time=   1.2s\n",
      "[CV 3/5] END C=0.25118864315095796, max_iter=500, penalty=l2;, score=0.890 total time=   1.3s\n",
      "[CV 4/5] END C=0.25118864315095796, max_iter=500, penalty=l2;, score=0.887 total time=   1.3s\n",
      "[CV 5/5] END C=0.25118864315095796, max_iter=500, penalty=l2;, score=0.888 total time=   1.2s\n",
      "[CV 1/5] END C=3.981071705534969, max_iter=10, penalty=l1;, score=nan total time=   0.0s\n",
      "[CV 2/5] END C=3.981071705534969, max_iter=10, penalty=l1;, score=nan total time=   0.0s\n",
      "[CV 3/5] END C=3.981071705534969, max_iter=10, penalty=l1;, score=nan total time=   0.0s\n",
      "[CV 4/5] END C=3.981071705534969, max_iter=10, penalty=l1;, score=nan total time=   0.0s\n",
      "[CV 5/5] END C=3.981071705534969, max_iter=10, penalty=l1;, score=nan total time=   0.0s\n",
      "[CV 1/5] END C=3.981071705534969, max_iter=10, penalty=l2;, score=0.863 total time=   0.1s\n",
      "[CV 2/5] END C=3.981071705534969, max_iter=10, penalty=l2;, score=0.866 total time=   0.1s\n",
      "[CV 3/5] END C=3.981071705534969, max_iter=10, penalty=l2;, score=0.866 total time=   0.1s\n",
      "[CV 4/5] END C=3.981071705534969, max_iter=10, penalty=l2;, score=0.861 total time=   0.1s\n",
      "[CV 5/5] END C=3.981071705534969, max_iter=10, penalty=l2;, score=0.865 total time=   0.1s\n",
      "[CV 1/5] END C=3.981071705534969, max_iter=100, penalty=l1;, score=nan total time=   0.0s\n",
      "[CV 2/5] END C=3.981071705534969, max_iter=100, penalty=l1;, score=nan total time=   0.0s\n",
      "[CV 3/5] END C=3.981071705534969, max_iter=100, penalty=l1;, score=nan total time=   0.0s\n",
      "[CV 4/5] END C=3.981071705534969, max_iter=100, penalty=l1;, score=nan total time=   0.0s\n",
      "[CV 5/5] END C=3.981071705534969, max_iter=100, penalty=l1;, score=nan total time=   0.0s\n",
      "[CV 1/5] END C=3.981071705534969, max_iter=100, penalty=l2;, score=0.903 total time=   1.6s\n",
      "[CV 2/5] END C=3.981071705534969, max_iter=100, penalty=l2;, score=0.903 total time=   1.6s\n",
      "[CV 3/5] END C=3.981071705534969, max_iter=100, penalty=l2;, score=0.903 total time=   1.7s\n",
      "[CV 4/5] END C=3.981071705534969, max_iter=100, penalty=l2;, score=0.900 total time=   1.4s\n",
      "[CV 5/5] END C=3.981071705534969, max_iter=100, penalty=l2;, score=0.903 total time=   1.6s\n",
      "[CV 1/5] END C=3.981071705534969, max_iter=500, penalty=l1;, score=nan total time=   0.0s\n",
      "[CV 2/5] END C=3.981071705534969, max_iter=500, penalty=l1;, score=nan total time=   0.0s\n",
      "[CV 3/5] END C=3.981071705534969, max_iter=500, penalty=l1;, score=nan total time=   0.0s\n",
      "[CV 4/5] END C=3.981071705534969, max_iter=500, penalty=l1;, score=nan total time=   0.0s\n",
      "[CV 5/5] END C=3.981071705534969, max_iter=500, penalty=l1;, score=nan total time=   0.0s\n",
      "[CV 1/5] END C=3.981071705534969, max_iter=500, penalty=l2;, score=0.903 total time=   3.7s\n",
      "[CV 2/5] END C=3.981071705534969, max_iter=500, penalty=l2;, score=0.904 total time=   4.1s\n",
      "[CV 3/5] END C=3.981071705534969, max_iter=500, penalty=l2;, score=0.903 total time=   4.1s\n",
      "[CV 4/5] END C=3.981071705534969, max_iter=500, penalty=l2;, score=0.900 total time=   4.2s\n",
      "[CV 5/5] END C=3.981071705534969, max_iter=500, penalty=l2;, score=0.903 total time=   4.6s\n",
      "[CV 1/5] END C=63.0957344480193, max_iter=10, penalty=l1;, score=nan total time=   0.0s\n",
      "[CV 2/5] END C=63.0957344480193, max_iter=10, penalty=l1;, score=nan total time=   0.0s\n",
      "[CV 3/5] END C=63.0957344480193, max_iter=10, penalty=l1;, score=nan total time=   0.0s\n",
      "[CV 4/5] END C=63.0957344480193, max_iter=10, penalty=l1;, score=nan total time=   0.0s\n",
      "[CV 5/5] END C=63.0957344480193, max_iter=10, penalty=l1;, score=nan total time=   0.0s\n",
      "[CV 1/5] END C=63.0957344480193, max_iter=10, penalty=l2;, score=0.864 total time=   0.1s\n",
      "[CV 2/5] END C=63.0957344480193, max_iter=10, penalty=l2;, score=0.868 total time=   0.1s\n",
      "[CV 3/5] END C=63.0957344480193, max_iter=10, penalty=l2;, score=0.867 total time=   0.1s\n",
      "[CV 4/5] END C=63.0957344480193, max_iter=10, penalty=l2;, score=0.863 total time=   0.2s\n",
      "[CV 5/5] END C=63.0957344480193, max_iter=10, penalty=l2;, score=0.866 total time=   0.2s\n",
      "[CV 1/5] END C=63.0957344480193, max_iter=100, penalty=l1;, score=nan total time=   0.0s\n",
      "[CV 2/5] END C=63.0957344480193, max_iter=100, penalty=l1;, score=nan total time=   0.0s\n",
      "[CV 3/5] END C=63.0957344480193, max_iter=100, penalty=l1;, score=nan total time=   0.0s\n",
      "[CV 4/5] END C=63.0957344480193, max_iter=100, penalty=l1;, score=nan total time=   0.0s\n",
      "[CV 5/5] END C=63.0957344480193, max_iter=100, penalty=l1;, score=nan total time=   0.0s\n",
      "[CV 1/5] END C=63.0957344480193, max_iter=100, penalty=l2;, score=0.898 total time=   1.9s\n",
      "[CV 2/5] END C=63.0957344480193, max_iter=100, penalty=l2;, score=0.896 total time=   1.7s\n",
      "[CV 3/5] END C=63.0957344480193, max_iter=100, penalty=l2;, score=0.897 total time=   1.7s\n",
      "[CV 4/5] END C=63.0957344480193, max_iter=100, penalty=l2;, score=0.894 total time=   1.7s\n",
      "[CV 5/5] END C=63.0957344480193, max_iter=100, penalty=l2;, score=0.898 total time=   1.7s\n",
      "[CV 1/5] END C=63.0957344480193, max_iter=500, penalty=l1;, score=nan total time=   0.0s\n",
      "[CV 2/5] END C=63.0957344480193, max_iter=500, penalty=l1;, score=nan total time=   0.0s\n",
      "[CV 3/5] END C=63.0957344480193, max_iter=500, penalty=l1;, score=nan total time=   0.0s\n",
      "[CV 4/5] END C=63.0957344480193, max_iter=500, penalty=l1;, score=nan total time=   0.0s\n",
      "[CV 5/5] END C=63.0957344480193, max_iter=500, penalty=l1;, score=nan total time=   0.0s\n",
      "[CV 1/5] END C=63.0957344480193, max_iter=500, penalty=l2;, score=0.895 total time=   8.5s\n",
      "[CV 2/5] END C=63.0957344480193, max_iter=500, penalty=l2;, score=0.896 total time=   8.4s\n",
      "[CV 3/5] END C=63.0957344480193, max_iter=500, penalty=l2;, score=0.896 total time=   8.9s\n",
      "[CV 4/5] END C=63.0957344480193, max_iter=500, penalty=l2;, score=0.895 total time=   8.4s\n",
      "[CV 5/5] END C=63.0957344480193, max_iter=500, penalty=l2;, score=0.898 total time=   8.3s\n",
      "[CV 1/5] END ...C=1000.0, max_iter=10, penalty=l1;, score=nan total time=   0.0s\n",
      "[CV 2/5] END ...C=1000.0, max_iter=10, penalty=l1;, score=nan total time=   0.0s\n",
      "[CV 3/5] END ...C=1000.0, max_iter=10, penalty=l1;, score=nan total time=   0.0s\n",
      "[CV 4/5] END ...C=1000.0, max_iter=10, penalty=l1;, score=nan total time=   0.0s\n",
      "[CV 5/5] END ...C=1000.0, max_iter=10, penalty=l1;, score=nan total time=   0.0s\n",
      "[CV 1/5] END .C=1000.0, max_iter=10, penalty=l2;, score=0.864 total time=   0.1s\n",
      "[CV 2/5] END .C=1000.0, max_iter=10, penalty=l2;, score=0.868 total time=   0.2s\n",
      "[CV 3/5] END .C=1000.0, max_iter=10, penalty=l2;, score=0.867 total time=   0.1s\n",
      "[CV 4/5] END .C=1000.0, max_iter=10, penalty=l2;, score=0.863 total time=   0.1s\n",
      "[CV 5/5] END .C=1000.0, max_iter=10, penalty=l2;, score=0.866 total time=   0.1s\n",
      "[CV 1/5] END ..C=1000.0, max_iter=100, penalty=l1;, score=nan total time=   0.0s\n",
      "[CV 2/5] END ..C=1000.0, max_iter=100, penalty=l1;, score=nan total time=   0.0s\n",
      "[CV 3/5] END ..C=1000.0, max_iter=100, penalty=l1;, score=nan total time=   0.0s\n",
      "[CV 4/5] END ..C=1000.0, max_iter=100, penalty=l1;, score=nan total time=   0.0s\n",
      "[CV 5/5] END ..C=1000.0, max_iter=100, penalty=l1;, score=nan total time=   0.0s\n",
      "[CV 1/5] END C=1000.0, max_iter=100, penalty=l2;, score=0.888 total time=   1.6s\n",
      "[CV 2/5] END C=1000.0, max_iter=100, penalty=l2;, score=0.887 total time=   1.6s\n",
      "[CV 3/5] END C=1000.0, max_iter=100, penalty=l2;, score=0.886 total time=   1.5s\n",
      "[CV 4/5] END C=1000.0, max_iter=100, penalty=l2;, score=0.890 total time=   1.5s\n",
      "[CV 5/5] END C=1000.0, max_iter=100, penalty=l2;, score=0.894 total time=   1.7s\n",
      "[CV 1/5] END ..C=1000.0, max_iter=500, penalty=l1;, score=nan total time=   0.0s\n",
      "[CV 2/5] END ..C=1000.0, max_iter=500, penalty=l1;, score=nan total time=   0.0s\n",
      "[CV 3/5] END ..C=1000.0, max_iter=500, penalty=l1;, score=nan total time=   0.0s\n",
      "[CV 4/5] END ..C=1000.0, max_iter=500, penalty=l1;, score=nan total time=   0.0s\n",
      "[CV 5/5] END ..C=1000.0, max_iter=500, penalty=l1;, score=nan total time=   0.0s\n",
      "[CV 1/5] END C=1000.0, max_iter=500, penalty=l2;, score=0.883 total time=   8.2s\n",
      "[CV 2/5] END C=1000.0, max_iter=500, penalty=l2;, score=0.884 total time=   8.2s\n",
      "[CV 3/5] END C=1000.0, max_iter=500, penalty=l2;, score=0.883 total time=   8.2s\n",
      "[CV 4/5] END C=1000.0, max_iter=500, penalty=l2;, score=0.881 total time=   8.6s\n",
      "[CV 5/5] END C=1000.0, max_iter=500, penalty=l2;, score=0.886 total time=   8.5s\n"
     ]
    }
   ],
   "source": [
    "rf_model=pipeline.fit(X_train,y_train)"
   ]
  },
  {
   "cell_type": "code",
   "execution_count": 7,
   "metadata": {},
   "outputs": [],
   "source": [
    "predictions = pipeline.predict(X_test)"
   ]
  },
  {
   "cell_type": "code",
   "execution_count": 8,
   "metadata": {},
   "outputs": [
    {
     "name": "stdout",
     "output_type": "stream",
     "text": [
      "              precision    recall  f1-score   support\n",
      "\n",
      "       False       0.91      0.90      0.91     20070\n",
      "        True       0.90      0.91      0.90     19930\n",
      "\n",
      "    accuracy                           0.91     40000\n",
      "   macro avg       0.91      0.91      0.91     40000\n",
      "weighted avg       0.91      0.91      0.91     40000\n",
      "\n"
     ]
    }
   ],
   "source": [
    "print(classification_report(y_test,predictions))"
   ]
  },
  {
   "cell_type": "code",
   "execution_count": 9,
   "metadata": {},
   "outputs": [],
   "source": [
    "def plot_confusion_matrix(Y_test, Y_preds):\n",
    "    conf_mat = confusion_matrix(Y_test, Y_preds)\n",
    "    #print(conf_mat)\n",
    "    fig = plt.figure(figsize=(6,6))\n",
    "    plt.matshow(conf_mat, cmap=plt.cm.Blues, fignum=1)\n",
    "    plt.yticks(range(2), range(2))\n",
    "    plt.xticks(range(2), range(2))\n",
    "    plt.colorbar();\n",
    "    for i in range(2):\n",
    "        for j in range(2):\n",
    "            plt.text(i-0.2,j+0.1, str(conf_mat[j, i]), color='tab:red')"
   ]
  },
  {
   "cell_type": "code",
   "execution_count": 10,
   "metadata": {},
   "outputs": [
    {
     "data": {
      "image/png": "[encoded data removed]",
      "text/plain": [
       "<Figure size 432x432 with 2 Axes>"
      ]
     },
     "metadata": {
      "needs_background": "light"
     },
     "output_type": "display_data"
    }
   ],
   "source": [
    "plot_confusion_matrix(y_test, predictions)"
   ]
  },
  {
   "cell_type": "markdown",
   "metadata": {},
   "source": [
    "### SVM"
   ]
  },
  {
   "cell_type": "code",
   "execution_count": 15,
   "metadata": {},
   "outputs": [
    {
     "name": "stdout",
     "output_type": "stream",
     "text": [
      "Fitting 5 folds for each of 50 candidates, totalling 250 fits\n",
      "[CV 1/5] END ........C=0.1, gamma=1, kernel=rbf;, score=0.880 total time=20.3min\n",
      "[CV 2/5] END ........C=0.1, gamma=1, kernel=rbf;, score=0.884 total time=20.4min\n"
     ]
    }
   ],
   "source": [
    "pipeline = Pipeline([\n",
    "    ('bow', CountVectorizer(analyzer=text_process)), \n",
    "    ('tfidf', TfidfTransformer()), \n",
    "    ('classifier', GridSearchCV(SVC(),param_grid={'C': [0.1,1, 10, 100, 1000], 'gamma': [1,0.1,0.01,0.001,0.0001],\n",
    "                                                  'kernel': [\"rbf\",'sigmoid']} ,refit=True,verbose=3))\n",
    "])\n",
    "\n",
    "svm_model=pipeline.fit(X_train,y_train)"
   ]
  },
  {
   "cell_type": "code",
   "execution_count": null,
   "metadata": {},
   "outputs": [],
   "source": [
    "predictions = svm_model.predict(X_test)\n",
    "print(classification_report(y_test,predictions))\n",
    "plot_confusion_matrix(y_test, predictions)"
   ]
  }
 ],
 "metadata": {
  "interpreter": {
   "hash": "6d8252e6ff2fcf763984e1fe66594d90dbe24607a75b4fe465f6934f23ce49e5"
  },
  "kernelspec": {
   "display_name": "Python 3",
   "language": "python",
   "name": "python3"
  },
  "language_info": {
   "codemirror_mode": {
    "name": "ipython",
    "version": 3
   },
   "file_extension": ".py",
   "mimetype": "text/x-python",
   "name": "python",
   "nbconvert_exporter": "python",
   "pygments_lexer": "ipython3",
   "version": "3.7.6"
  }
 },
 "nbformat": 4,
 "nbformat_minor": 2
}
