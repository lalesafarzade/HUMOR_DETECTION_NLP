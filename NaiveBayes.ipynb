{
 "cells": [
  {
   "cell_type": "code",
   "execution_count": 2,
   "metadata": {},
   "outputs": [
    {
     "name": "stderr",
     "output_type": "stream",
     "text": [
      "C:\\Users\\Lales\\Anaconda3\\lib\\site-packages\\numpy\\_distributor_init.py:32: UserWarning: loaded more than 1 DLL from .libs:\n",
      "C:\\Users\\Lales\\Anaconda3\\lib\\site-packages\\numpy\\.libs\\libopenblas.PYQHXLVVQ7VESDPUVUADXEVJOBGHJPAY.gfortran-win_amd64.dll\n",
      "C:\\Users\\Lales\\Anaconda3\\lib\\site-packages\\numpy\\.libs\\libopenblas.XWYDX2IKJW2NMTWSFYNGFUWKQU3LYTCZ.gfortran-win_amd64.dll\n",
      "  stacklevel=1)\n"
     ]
    }
   ],
   "source": [
    "import numpy as np\n",
    "import pandas as pd\n",
    "import re \n",
    "from sklearn.metrics import classification_report,confusion_matrix\n",
    "from sklearn.linear_model import LogisticRegression\n",
    "import matplotlib.pyplot as plt\n",
    "from sklearn.svm import SVC\n",
    "from sklearn.model_selection import GridSearchCV\n",
    "from nltk.corpus import stopwords\n",
    "from scipy import optimize\n",
    "from sklearn.feature_extraction.text import TfidfTransformer\n",
    "from sklearn.pipeline import Pipeline\n",
    "from sklearn.naive_bayes import MultinomialNB\n",
    "from nltk.stem import PorterStemmer\n",
    "import string\n",
    "from scipy.io import loadmat\n",
    "from sklearn.feature_extraction.text import CountVectorizer\n",
    "import warnings\n",
    "warnings.filterwarnings(\"ignore\")\n",
    "from sklearn.model_selection import train_test_split\n",
    "from utils import data_splitter,text_process,count_freqs\n",
    "import sklearn as sk\n"
   ]
  },
  {
   "cell_type": "code",
   "execution_count": 3,
   "metadata": {},
   "outputs": [],
   "source": [
    "X_train, X_test, y_train, y_test,train_lab,test_lab = data_splitter('resources/dataset.csv')"
   ]
  },
  {
   "cell_type": "code",
   "execution_count": 4,
   "metadata": {},
   "outputs": [
    {
     "data": {
      "text/plain": [
       "'Why did the composer spend all his time in  bed? he wrote sheet music.'"
      ]
     },
     "execution_count": 4,
     "metadata": {},
     "output_type": "execute_result"
    }
   ],
   "source": [
    "X_train[0]"
   ]
  },
  {
   "cell_type": "code",
   "execution_count": 5,
   "metadata": {},
   "outputs": [
    {
     "data": {
      "text/plain": [
       "['compos', 'spend', 'time', 'bed', 'wrote', 'sheet', 'music']"
      ]
     },
     "execution_count": 5,
     "metadata": {},
     "output_type": "execute_result"
    }
   ],
   "source": [
    "text_process(X_train[0])"
   ]
  },
  {
   "cell_type": "markdown",
   "metadata": {},
   "source": [
    "## Vectorization\n"
   ]
  },
  {
   "cell_type": "code",
   "execution_count": 6,
   "metadata": {},
   "outputs": [
    {
     "name": "stdout",
     "output_type": "stream",
     "text": [
      "48200\n"
     ]
    }
   ],
   "source": [
    "bow_transformer = CountVectorizer(analyzer=text_process).fit(X_train)\n",
    "\n",
    "# Print total number of vocab words\n",
    "print(len(bow_transformer.vocabulary_))"
   ]
  },
  {
   "cell_type": "code",
   "execution_count": 8,
   "metadata": {},
   "outputs": [
    {
     "name": "stdout",
     "output_type": "stream",
     "text": [
      "  (0, 5430)\t1\n",
      "  (0, 10107)\t1\n",
      "  (0, 28817)\t1\n",
      "  (0, 38235)\t1\n",
      "  (0, 39868)\t1\n",
      "  (0, 42607)\t1\n",
      "  (0, 46867)\t1\n",
      "(1, 48200)\n"
     ]
    }
   ],
   "source": [
    "bow0 = bow_transformer.transform([X_train[0]])\n",
    "print(bow0)\n",
    "print(bow0.shape)"
   ]
  },
  {
   "cell_type": "code",
   "execution_count": 9,
   "metadata": {},
   "outputs": [],
   "source": [
    "text_bow_train = bow_transformer.transform(X_train)\n",
    "text_bow_test = bow_transformer.transform(X_test)"
   ]
  },
  {
   "cell_type": "code",
   "execution_count": 10,
   "metadata": {},
   "outputs": [
    {
     "name": "stdout",
     "output_type": "stream",
     "text": [
      "Shape of Sparse Matrix:  (160000, 48200)\n",
      "Amount of Non-Zero occurences:  1146148\n",
      "sparsity: 0\n"
     ]
    }
   ],
   "source": [
    "print('Shape of Sparse Matrix: ', text_bow_train.shape)\n",
    "print('Amount of Non-Zero occurences: ', text_bow_train.nnz)\n",
    "sparsity = (100.0 * text_bow_train.nnz / (text_bow_train.shape[0] * text_bow_train.shape[1]))\n",
    "print('sparsity: {}'.format(round(sparsity)))"
   ]
  },
  {
   "cell_type": "markdown",
   "metadata": {},
   "source": [
    "## Term Frequency-Inverse Document Frequency(TF-IDF)"
   ]
  },
  {
   "cell_type": "code",
   "execution_count": 11,
   "metadata": {},
   "outputs": [
    {
     "name": "stdout",
     "output_type": "stream",
     "text": [
      "(160000, 48200)\n"
     ]
    }
   ],
   "source": [
    "tfidf_transformer = TfidfTransformer().fit(text_bow_train)\n",
    "text_tfidf_train=tfidf_transformer.transform(text_bow_train)\n",
    "text_tfidf_test=tfidf_transformer.transform(text_bow_test)\n",
    "print(text_tfidf_train.shape)"
   ]
  },
  {
   "cell_type": "markdown",
   "metadata": {},
   "source": [
    "## Training NaiveBayes models"
   ]
  },
  {
   "cell_type": "code",
   "execution_count": 22,
   "metadata": {},
   "outputs": [
    {
     "data": {
      "text/plain": [
       "BernoulliNB(alpha=0.5)"
      ]
     },
     "execution_count": 22,
     "metadata": {},
     "output_type": "execute_result"
    }
   ],
   "source": [
    "from sklearn.naive_bayes import BernoulliNB\n",
    "\n",
    "bernoulli_nb =  BernoulliNB(alpha=.5)\n",
    "bernoulli_nb.fit(text_bow_train, y_train)"
   ]
  },
  {
   "cell_type": "code",
   "execution_count": 23,
   "metadata": {},
   "outputs": [
    {
     "name": "stdout",
     "output_type": "stream",
     "text": [
      "Test Accuracy : 0.900\n",
      "Training Accuracy : 0.917\n"
     ]
    }
   ],
   "source": [
    "y_preds = bernoulli_nb.predict(text_bow_test)\n",
    "print('Test Accuracy : %.3f'%bernoulli_nb.score(text_bow_test, y_test)) ## Score method also evaluates accuracy for classification models.\n",
    "print('Training Accuracy : %.3f'%bernoulli_nb.score(text_bow_train, y_train))\n"
   ]
  },
  {
   "cell_type": "code",
   "execution_count": 21,
   "metadata": {},
   "outputs": [
    {
     "name": "stdout",
     "output_type": "stream",
     "text": [
      "Fitting 5 folds for each of 5 candidates, totalling 25 fits\n",
      "Train Accuracy : 0.917\n",
      "Test Accuracy : 0.900\n",
      "Best Accuracy Through Grid Search : 0.899\n",
      "Best Parameters :  {'alpha': 0.5}\n"
     ]
    }
   ],
   "source": [
    "params = {'alpha': [0.01, 0.1, 0.5, 1.0, 10.0],}\n",
    "\n",
    "bernoulli_nb_grid = GridSearchCV(BernoulliNB(), param_grid=params, n_jobs=-1, cv=5, verbose=5)\n",
    "bernoulli_nb_grid.fit(text_bow_train, y_train)\n",
    "\n",
    "print('Train Accuracy : %.3f'%bernoulli_nb_grid.best_estimator_.score(text_bow_train, y_train))\n",
    "print('Test Accuracy : %.3f'%bernoulli_nb_grid.best_estimator_.score(text_bow_test, y_test))\n",
    "print('Best Accuracy Through Grid Search : %.3f'%bernoulli_nb_grid.best_score_)\n",
    "print('Best Parameters : ',bernoulli_nb_grid.best_params_)"
   ]
  },
  {
   "cell_type": "code",
   "execution_count": 31,
   "metadata": {},
   "outputs": [],
   "source": [
    "from sklearn.naive_bayes import ComplementNB\n",
    "\n",
    "complement_nb = ComplementNB()"
   ]
  },
  {
   "cell_type": "code",
   "execution_count": 34,
   "metadata": {},
   "outputs": [
    {
     "name": "stdout",
     "output_type": "stream",
     "text": [
      "Fitting 5 folds for each of 5 candidates, totalling 25 fits\n",
      "Train Accuracy : 0.917\n",
      "Test Accuracy : 0.901\n",
      "Best Accuracy Through Grid Search : 0.899\n",
      "Best Parameters :  {'alpha': 0.5}\n"
     ]
    }
   ],
   "source": [
    "params = {'alpha': [0.01, 0.1, 0.5, 1.0, 10.0],}\n",
    "\n",
    "bernoulli_nb_grid = GridSearchCV(ComplementNB(), param_grid=params, n_jobs=-1, cv=5, verbose=5)\n",
    "bernoulli_nb_grid.fit(text_bow_train, y_train)\n",
    "\n",
    "print('Train Accuracy : %.3f'%bernoulli_nb_grid.best_estimator_.score(text_bow_train, y_train))\n",
    "print('Test Accuracy : %.3f'%bernoulli_nb_grid.best_estimator_.score(text_bow_test, y_test))\n",
    "print('Best Accuracy Through Grid Search : %.3f'%bernoulli_nb_grid.best_score_)\n",
    "print('Best Parameters : ',bernoulli_nb_grid.best_params_)"
   ]
  },
  {
   "cell_type": "code",
   "execution_count": 36,
   "metadata": {},
   "outputs": [
    {
     "name": "stdout",
     "output_type": "stream",
     "text": [
      "Fitting 5 folds for each of 5 candidates, totalling 25 fits\n",
      "Train Accuracy : 0.917\n",
      "Test Accuracy : 0.901\n",
      "Best Accuracy Through Grid Search : 0.899\n",
      "Best Parameters :  {'alpha': 0.5}\n"
     ]
    }
   ],
   "source": [
    "from sklearn.naive_bayes import MultinomialNB\n",
    "\n",
    "params = {'alpha': [0.01, 0.1, 0.5, 1.0, 10.0],}\n",
    "\n",
    "bernoulli_nb_grid = GridSearchCV(MultinomialNB(), param_grid=params, n_jobs=-1, cv=5, verbose=5)\n",
    "bernoulli_nb_grid.fit(text_bow_train, y_train)\n",
    "\n",
    "print('Train Accuracy : %.3f'%bernoulli_nb_grid.best_estimator_.score(text_bow_train, y_train))\n",
    "print('Test Accuracy : %.3f'%bernoulli_nb_grid.best_estimator_.score(text_bow_test, y_test))\n",
    "print('Best Accuracy Through Grid Search : %.3f'%bernoulli_nb_grid.best_score_)\n",
    "print('Best Parameters : ',bernoulli_nb_grid.best_params_)"
   ]
  },
  {
   "cell_type": "code",
   "execution_count": 37,
   "metadata": {},
   "outputs": [],
   "source": [
    "pipeline = Pipeline([\n",
    "    ('bow', CountVectorizer(analyzer=text_process)), \n",
    "    ('tfidf', TfidfTransformer()), \n",
    "    ('classifier', GridSearchCV(MultinomialNB(),param_grid={'alpha': [0.01, 0.1, 0.5, 1.0, 10.0],},refit=True,verbose=3))\n",
    "])"
   ]
  },
  {
   "cell_type": "code",
   "execution_count": 38,
   "metadata": {},
   "outputs": [
    {
     "name": "stdout",
     "output_type": "stream",
     "text": [
      "Fitting 5 folds for each of 5 candidates, totalling 25 fits\n",
      "[CV 1/5] END ........................alpha=0.01;, score=0.887 total time=   0.0s\n",
      "[CV 2/5] END ........................alpha=0.01;, score=0.889 total time=   0.0s\n",
      "[CV 3/5] END ........................alpha=0.01;, score=0.887 total time=   0.0s\n",
      "[CV 4/5] END ........................alpha=0.01;, score=0.885 total time=   0.0s\n",
      "[CV 5/5] END ........................alpha=0.01;, score=0.885 total time=   0.0s\n",
      "[CV 1/5] END .........................alpha=0.1;, score=0.892 total time=   0.0s\n",
      "[CV 2/5] END .........................alpha=0.1;, score=0.894 total time=   0.0s\n",
      "[CV 3/5] END .........................alpha=0.1;, score=0.893 total time=   0.0s\n",
      "[CV 4/5] END .........................alpha=0.1;, score=0.891 total time=   0.0s\n",
      "[CV 5/5] END .........................alpha=0.1;, score=0.891 total time=   0.0s\n",
      "[CV 1/5] END .........................alpha=0.5;, score=0.896 total time=   0.0s\n",
      "[CV 2/5] END .........................alpha=0.5;, score=0.898 total time=   0.0s\n",
      "[CV 3/5] END .........................alpha=0.5;, score=0.896 total time=   0.0s\n",
      "[CV 4/5] END .........................alpha=0.5;, score=0.894 total time=   0.0s\n",
      "[CV 5/5] END .........................alpha=0.5;, score=0.894 total time=   0.0s\n",
      "[CV 1/5] END .........................alpha=1.0;, score=0.896 total time=   0.0s\n",
      "[CV 2/5] END .........................alpha=1.0;, score=0.898 total time=   0.0s\n",
      "[CV 3/5] END .........................alpha=1.0;, score=0.897 total time=   0.0s\n",
      "[CV 4/5] END .........................alpha=1.0;, score=0.894 total time=   0.0s\n",
      "[CV 5/5] END .........................alpha=1.0;, score=0.894 total time=   0.0s\n",
      "[CV 1/5] END ........................alpha=10.0;, score=0.890 total time=   0.0s\n",
      "[CV 2/5] END ........................alpha=10.0;, score=0.892 total time=   0.0s\n",
      "[CV 3/5] END ........................alpha=10.0;, score=0.889 total time=   0.0s\n",
      "[CV 4/5] END ........................alpha=10.0;, score=0.888 total time=   0.0s\n",
      "[CV 5/5] END ........................alpha=10.0;, score=0.888 total time=   0.0s\n"
     ]
    },
    {
     "data": {
      "text/plain": [
       "Pipeline(steps=[('bow',\n",
       "                 CountVectorizer(analyzer=<function text_process at 0x000001D3E01714C8>)),\n",
       "                ('tfidf', TfidfTransformer()),\n",
       "                ('classifier',\n",
       "                 GridSearchCV(estimator=MultinomialNB(),\n",
       "                              param_grid={'alpha': [0.01, 0.1, 0.5, 1.0, 10.0]},\n",
       "                              verbose=3))])"
      ]
     },
     "execution_count": 38,
     "metadata": {},
     "output_type": "execute_result"
    }
   ],
   "source": [
    "pipeline.fit(X_train, y_train)"
   ]
  },
  {
   "cell_type": "code",
   "execution_count": 41,
   "metadata": {},
   "outputs": [],
   "source": [
    "predictions = pipeline.predict(X_test)"
   ]
  },
  {
   "cell_type": "code",
   "execution_count": 42,
   "metadata": {},
   "outputs": [
    {
     "name": "stdout",
     "output_type": "stream",
     "text": [
      "              precision    recall  f1-score   support\n",
      "\n",
      "         0.0       0.90      0.89      0.90     20000\n",
      "         1.0       0.89      0.91      0.90     20000\n",
      "\n",
      "    accuracy                           0.90     40000\n",
      "   macro avg       0.90      0.90      0.90     40000\n",
      "weighted avg       0.90      0.90      0.90     40000\n",
      "\n"
     ]
    }
   ],
   "source": [
    "print(classification_report(y_test,predictions))"
   ]
  },
  {
   "cell_type": "code",
   "execution_count": 43,
   "metadata": {},
   "outputs": [],
   "source": [
    "def plot_confusion_matrix(Y_test, Y_preds):\n",
    "    conf_mat = confusion_matrix(Y_test, Y_preds)\n",
    "    #print(conf_mat)\n",
    "    fig = plt.figure(figsize=(6,6))\n",
    "    plt.matshow(conf_mat, cmap=plt.cm.Blues, fignum=1)\n",
    "    plt.yticks(range(2), range(2))\n",
    "    plt.xticks(range(2), range(2))\n",
    "    plt.colorbar();\n",
    "    for i in range(2):\n",
    "        for j in range(2):\n",
    "            plt.text(i-0.2,j+0.1, str(conf_mat[j, i]), color='tab:red')"
   ]
  },
  {
   "cell_type": "code",
   "execution_count": 46,
   "metadata": {},
   "outputs": [
    {
     "data": {
      "image/png": "[encoded data removed]",
      "text/plain": [
       "<Figure size 432x432 with 2 Axes>"
      ]
     },
     "metadata": {
      "needs_background": "light"
     },
     "output_type": "display_data"
    }
   ],
   "source": [
    "plot_confusion_matrix(y_test, predictions)\n"
   ]
  },
  {
   "cell_type": "code",
   "execution_count": null,
   "metadata": {},
   "outputs": [],
   "source": []
  }
 ],
 "metadata": {
  "interpreter": {
   "hash": "6d8252e6ff2fcf763984e1fe66594d90dbe24607a75b4fe465f6934f23ce49e5"
  },
  "kernelspec": {
   "display_name": "Python 3.7.6 ('base')",
   "language": "python",
   "name": "python3"
  },
  "language_info": {
   "codemirror_mode": {
    "name": "ipython",
    "version": 3
   },
   "file_extension": ".py",
   "mimetype": "text/x-python",
   "name": "python",
   "nbconvert_exporter": "python",
   "pygments_lexer": "ipython3",
   "version": "3.7.6"
  },
  "orig_nbformat": 4
 },
 "nbformat": 4,
 "nbformat_minor": 2
}
