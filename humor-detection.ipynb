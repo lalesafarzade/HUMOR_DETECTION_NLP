{
 "cells": [
  {
   "cell_type": "code",
   "execution_count": 1,
   "id": "8081a5bb",
   "metadata": {
    "_cell_guid": "b1076dfc-b9ad-4769-8c92-a6c4dae69d19",
    "_uuid": "8f2839f25d086af736a60e9eeb907d3b93b6e0e5",
    "execution": {
     "iopub.execute_input": "2022-05-06T20:32:06.302770Z",
     "iopub.status.busy": "2022-05-06T20:32:06.302360Z",
     "iopub.status.idle": "2022-05-06T20:32:12.470350Z",
     "shell.execute_reply": "2022-05-06T20:32:12.469308Z"
    },
    "papermill": {
     "duration": 6.184893,
     "end_time": "2022-05-06T20:32:12.473387",
     "exception": false,
     "start_time": "2022-05-06T20:32:06.288494",
     "status": "completed"
    },
    "tags": []
   },
   "outputs": [
    {
     "name": "stdout",
     "output_type": "stream",
     "text": [
      "/kaggle/input/200k-short-texts-for-humor-detection/dataset.csv\n",
      "GPU is available\n"
     ]
    },
    {
     "name": "stderr",
     "output_type": "stream",
     "text": [
      "2022-05-06 20:32:12.343195: I tensorflow/stream_executor/cuda/cuda_gpu_executor.cc:937] successful NUMA node read from SysFS had negative value (-1), but there must be at least one NUMA node, so returning NUMA node zero\n",
      "2022-05-06 20:32:12.454916: I tensorflow/stream_executor/cuda/cuda_gpu_executor.cc:937] successful NUMA node read from SysFS had negative value (-1), but there must be at least one NUMA node, so returning NUMA node zero\n",
      "2022-05-06 20:32:12.455734: I tensorflow/stream_executor/cuda/cuda_gpu_executor.cc:937] successful NUMA node read from SysFS had negative value (-1), but there must be at least one NUMA node, so returning NUMA node zero\n"
     ]
    }
   ],
   "source": [
    "\n",
    "import numpy as np\n",
    "import warnings\n",
    "from tensorflow.keras.callbacks import EarlyStopping\n",
    "warnings.filterwarnings(\"ignore\")\n",
    "import tensorflow as tf\n",
    "import tensorflow_hub as hub\n",
    "\n",
    "import matplotlib.pyplot as plt\n",
    "import pandas as pd\n",
    "from sklearn.model_selection import train_test_split\n",
    "from tensorflow.keras.layers import Dropout\n",
    "import numpy as np # linear algebra\n",
    "import pandas as pd # data processing, CSV file I/O (e.g. pd.read_csv)\n",
    "import tensorflow_hub as hub\n",
    "import os\n",
    "for dirname, _, filenames in os.walk('/kaggle/input'):\n",
    "    for filename in filenames:\n",
    "        print(os.path.join(dirname, filename))\n",
    "print(\"GPU is\", \"available\" if tf.config.list_physical_devices('GPU') else \"NOT AVAILABLE\")"
   ]
  },
  {
   "cell_type": "code",
   "execution_count": 2,
   "id": "1fd01f2f",
   "metadata": {
    "execution": {
     "iopub.execute_input": "2022-05-06T20:32:12.499121Z",
     "iopub.status.busy": "2022-05-06T20:32:12.498330Z",
     "iopub.status.idle": "2022-05-06T20:32:12.985759Z",
     "shell.execute_reply": "2022-05-06T20:32:12.985061Z"
    },
    "papermill": {
     "duration": 0.502313,
     "end_time": "2022-05-06T20:32:12.988006",
     "exception": false,
     "start_time": "2022-05-06T20:32:12.485693",
     "status": "completed"
    },
    "tags": []
   },
   "outputs": [
    {
     "data": {
      "text/html": [
       "<div>\n",
       "<style scoped>\n",
       "    .dataframe tbody tr th:only-of-type {\n",
       "        vertical-align: middle;\n",
       "    }\n",
       "\n",
       "    .dataframe tbody tr th {\n",
       "        vertical-align: top;\n",
       "    }\n",
       "\n",
       "    .dataframe thead th {\n",
       "        text-align: right;\n",
       "    }\n",
       "</style>\n",
       "<table border=\"1\" class=\"dataframe\">\n",
       "  <thead>\n",
       "    <tr style=\"text-align: right;\">\n",
       "      <th></th>\n",
       "      <th>text</th>\n",
       "      <th>humor</th>\n",
       "    </tr>\n",
       "  </thead>\n",
       "  <tbody>\n",
       "    <tr>\n",
       "      <th>0</th>\n",
       "      <td>Joe biden rules out 2020 bid: 'guys, i'm not r...</td>\n",
       "      <td>0</td>\n",
       "    </tr>\n",
       "    <tr>\n",
       "      <th>1</th>\n",
       "      <td>Watch: darvish gave hitter whiplash with slow ...</td>\n",
       "      <td>0</td>\n",
       "    </tr>\n",
       "  </tbody>\n",
       "</table>\n",
       "</div>"
      ],
      "text/plain": [
       "                                                text  humor\n",
       "0  Joe biden rules out 2020 bid: 'guys, i'm not r...      0\n",
       "1  Watch: darvish gave hitter whiplash with slow ...      0"
      ]
     },
     "execution_count": 2,
     "metadata": {},
     "output_type": "execute_result"
    }
   ],
   "source": [
    "df = pd.read_csv('../input/200k-short-texts-for-humor-detection/dataset.csv')\n",
    "df['humor']=df['humor'].map({True:1,False:0})\n",
    "df.head(2)"
   ]
  },
  {
   "cell_type": "code",
   "execution_count": 3,
   "id": "d2a1183e",
   "metadata": {
    "execution": {
     "iopub.execute_input": "2022-05-06T20:32:13.014452Z",
     "iopub.status.busy": "2022-05-06T20:32:13.014205Z",
     "iopub.status.idle": "2022-05-06T20:32:13.061047Z",
     "shell.execute_reply": "2022-05-06T20:32:13.060328Z"
    },
    "papermill": {
     "duration": 0.062694,
     "end_time": "2022-05-06T20:32:13.063049",
     "exception": false,
     "start_time": "2022-05-06T20:32:13.000355",
     "status": "completed"
    },
    "tags": []
   },
   "outputs": [],
   "source": [
    "from sklearn.model_selection import train_test_split\n",
    "\n",
    "X_train, X_test, y_train, y_test = train_test_split(df['text'], df['humor'], test_size=0.3)\n",
    "X_train=np.array(X_train)\n",
    "y_train=np.array(y_train)\n",
    "X_val=np.array(X_test)\n",
    "y_val=np.array(y_test)\n",
    "X_test=X_val[:1000]\n",
    "y_test=y_val[:1000]\n",
    "X_val=X_val[1000:]\n",
    "y_val=y_val[1000:]"
   ]
  },
  {
   "cell_type": "code",
   "execution_count": 4,
   "id": "e248a8cb",
   "metadata": {
    "execution": {
     "iopub.execute_input": "2022-05-06T20:32:13.089493Z",
     "iopub.status.busy": "2022-05-06T20:32:13.089257Z",
     "iopub.status.idle": "2022-05-06T20:32:13.094403Z",
     "shell.execute_reply": "2022-05-06T20:32:13.093755Z"
    },
    "papermill": {
     "duration": 0.020509,
     "end_time": "2022-05-06T20:32:13.096280",
     "exception": false,
     "start_time": "2022-05-06T20:32:13.075771",
     "status": "completed"
    },
    "tags": []
   },
   "outputs": [
    {
     "data": {
      "text/plain": [
       "array([\"I know a girl who is completely obsessed with mexican men. she's a pedrophile.\",\n",
       "       \"Health care is 'complicated' - here's one way to fix it\",\n",
       "       'What happens in vegas stays on facebook, instagram, youtube, vine, and medical records.',\n",
       "       \"What's invisible and smells like carrots? bunny farts.\",\n",
       "       \"My attitude changes in 5 seconds flat. from sweetheart to bitch. so i suggest you don't test that.\"],\n",
       "      dtype=object)"
      ]
     },
     "execution_count": 4,
     "metadata": {},
     "output_type": "execute_result"
    }
   ],
   "source": [
    "X_test[:5]"
   ]
  },
  {
   "cell_type": "code",
   "execution_count": 5,
   "id": "577d81d5",
   "metadata": {
    "execution": {
     "iopub.execute_input": "2022-05-06T20:32:13.123017Z",
     "iopub.status.busy": "2022-05-06T20:32:13.122457Z",
     "iopub.status.idle": "2022-05-06T20:32:15.192556Z",
     "shell.execute_reply": "2022-05-06T20:32:15.190327Z"
    },
    "papermill": {
     "duration": 2.086823,
     "end_time": "2022-05-06T20:32:15.195651",
     "exception": false,
     "start_time": "2022-05-06T20:32:13.108828",
     "status": "completed"
    },
    "tags": []
   },
   "outputs": [
    {
     "name": "stdout",
     "output_type": "stream",
     "text": [
      "text:  b'How many feminists does it take to change a light bulb? just one. and that is ***not funny***.'\n",
      "label:  1\n"
     ]
    },
    {
     "name": "stderr",
     "output_type": "stream",
     "text": [
      "2022-05-06 20:32:13.127520: I tensorflow/core/platform/cpu_feature_guard.cc:142] This TensorFlow binary is optimized with oneAPI Deep Neural Network Library (oneDNN) to use the following CPU instructions in performance-critical operations:  AVX2 AVX512F FMA\n",
      "To enable them in other operations, rebuild TensorFlow with the appropriate compiler flags.\n",
      "2022-05-06 20:32:13.128006: I tensorflow/stream_executor/cuda/cuda_gpu_executor.cc:937] successful NUMA node read from SysFS had negative value (-1), but there must be at least one NUMA node, so returning NUMA node zero\n",
      "2022-05-06 20:32:13.128875: I tensorflow/stream_executor/cuda/cuda_gpu_executor.cc:937] successful NUMA node read from SysFS had negative value (-1), but there must be at least one NUMA node, so returning NUMA node zero\n",
      "2022-05-06 20:32:13.129570: I tensorflow/stream_executor/cuda/cuda_gpu_executor.cc:937] successful NUMA node read from SysFS had negative value (-1), but there must be at least one NUMA node, so returning NUMA node zero\n",
      "2022-05-06 20:32:14.772989: I tensorflow/stream_executor/cuda/cuda_gpu_executor.cc:937] successful NUMA node read from SysFS had negative value (-1), but there must be at least one NUMA node, so returning NUMA node zero\n",
      "2022-05-06 20:32:14.773855: I tensorflow/stream_executor/cuda/cuda_gpu_executor.cc:937] successful NUMA node read from SysFS had negative value (-1), but there must be at least one NUMA node, so returning NUMA node zero\n",
      "2022-05-06 20:32:14.774590: I tensorflow/stream_executor/cuda/cuda_gpu_executor.cc:937] successful NUMA node read from SysFS had negative value (-1), but there must be at least one NUMA node, so returning NUMA node zero\n",
      "2022-05-06 20:32:14.775895: I tensorflow/core/common_runtime/gpu/gpu_device.cc:1510] Created device /job:localhost/replica:0/task:0/device:GPU:0 with 15403 MB memory:  -> device: 0, name: Tesla P100-PCIE-16GB, pci bus id: 0000:00:04.0, compute capability: 6.0\n"
     ]
    }
   ],
   "source": [
    "train_dataset = tf.data.Dataset.from_tensor_slices((X_train, y_train))\n",
    "validation_dataset = tf.data.Dataset.from_tensor_slices((X_val, y_val))\n",
    "test_dataset = tf.data.Dataset.from_tensor_slices((X_test, y_test))\n",
    "for example, label in validation_dataset.take(1):\n",
    "  print('text: ', example.numpy())\n",
    "  print('label: ', label.numpy())"
   ]
  },
  {
   "cell_type": "code",
   "execution_count": 6,
   "id": "d2003684",
   "metadata": {
    "execution": {
     "iopub.execute_input": "2022-05-06T20:32:15.226819Z",
     "iopub.status.busy": "2022-05-06T20:32:15.226330Z",
     "iopub.status.idle": "2022-05-06T20:32:15.236720Z",
     "shell.execute_reply": "2022-05-06T20:32:15.236024Z"
    },
    "papermill": {
     "duration": 0.028199,
     "end_time": "2022-05-06T20:32:15.238661",
     "exception": false,
     "start_time": "2022-05-06T20:32:15.210462",
     "status": "completed"
    },
    "tags": []
   },
   "outputs": [],
   "source": [
    "BUFFER_SIZE = 10000\n",
    "BATCH_SIZE = 64\n",
    "train_dataset = train_dataset.shuffle(BUFFER_SIZE).batch(BATCH_SIZE).prefetch(tf.data.AUTOTUNE)\n",
    "validation_dataset = validation_dataset.batch(BATCH_SIZE).prefetch(tf.data.AUTOTUNE)"
   ]
  },
  {
   "cell_type": "code",
   "execution_count": 7,
   "id": "ef4fc1b6",
   "metadata": {
    "execution": {
     "iopub.execute_input": "2022-05-06T20:32:15.269185Z",
     "iopub.status.busy": "2022-05-06T20:32:15.268594Z",
     "iopub.status.idle": "2022-05-06T20:32:20.561446Z",
     "shell.execute_reply": "2022-05-06T20:32:20.560616Z"
    },
    "papermill": {
     "duration": 5.310596,
     "end_time": "2022-05-06T20:32:20.563873",
     "exception": false,
     "start_time": "2022-05-06T20:32:15.253277",
     "status": "completed"
    },
    "tags": []
   },
   "outputs": [
    {
     "name": "stderr",
     "output_type": "stream",
     "text": [
      "2022-05-06 20:32:15.356854: I tensorflow/compiler/mlir/mlir_graph_optimization_pass.cc:185] None of the MLIR Optimization Passes are enabled (registered 2)\n"
     ]
    }
   ],
   "source": [
    "VOCAB_SIZE = 1000\n",
    "encoder = tf.keras.layers.TextVectorization(\n",
    "    max_tokens=VOCAB_SIZE)\n",
    "encoder.adapt(train_dataset.map(lambda text, label: text))"
   ]
  },
  {
   "cell_type": "code",
   "execution_count": 8,
   "id": "4cc16c5f",
   "metadata": {
    "execution": {
     "iopub.execute_input": "2022-05-06T20:32:20.593353Z",
     "iopub.status.busy": "2022-05-06T20:32:20.593089Z",
     "iopub.status.idle": "2022-05-06T20:32:23.651334Z",
     "shell.execute_reply": "2022-05-06T20:32:23.650570Z"
    },
    "papermill": {
     "duration": 3.075558,
     "end_time": "2022-05-06T20:32:23.653504",
     "exception": false,
     "start_time": "2022-05-06T20:32:20.577946",
     "status": "completed"
    },
    "tags": []
   },
   "outputs": [
    {
     "name": "stdout",
     "output_type": "stream",
     "text": [
      "[False, True, True, True, True, True]\n"
     ]
    }
   ],
   "source": [
    "model = tf.keras.Sequential([\n",
    "    encoder,\n",
    "    tf.keras.layers.Embedding(\n",
    "        input_dim=len(encoder.get_vocabulary()),\n",
    "        output_dim=64,\n",
    "        # Use masking to handle the variable sequence lengths\n",
    "        mask_zero=True),\n",
    "    tf.keras.layers.Bidirectional(tf.keras.layers.LSTM(64,  return_sequences=True)),\n",
    "    tf.keras.layers.Bidirectional(tf.keras.layers.LSTM(32)),\n",
    "    tf.keras.layers.Dense(64, activation='relu'),\n",
    "    tf.keras.layers.Dense(1)#, activation='sigmoid'\n",
    "])\n",
    "print([layer.supports_masking for layer in model.layers])"
   ]
  },
  {
   "cell_type": "code",
   "execution_count": 9,
   "id": "8ad14892",
   "metadata": {
    "execution": {
     "iopub.execute_input": "2022-05-06T20:32:23.684233Z",
     "iopub.status.busy": "2022-05-06T20:32:23.683976Z",
     "iopub.status.idle": "2022-05-06T20:32:29.086114Z",
     "shell.execute_reply": "2022-05-06T20:32:29.085331Z"
    },
    "papermill": {
     "duration": 5.420793,
     "end_time": "2022-05-06T20:32:29.088252",
     "exception": false,
     "start_time": "2022-05-06T20:32:23.667459",
     "status": "completed"
    },
    "tags": []
   },
   "outputs": [
    {
     "name": "stderr",
     "output_type": "stream",
     "text": [
      "2022-05-06 20:32:27.997795: I tensorflow/stream_executor/cuda/cuda_dnn.cc:369] Loaded cuDNN version 8005\n"
     ]
    },
    {
     "name": "stdout",
     "output_type": "stream",
     "text": [
      "[-0.00421236]\n"
     ]
    }
   ],
   "source": [
    "# predict on a sample text without padding.\n",
    "\n",
    "sample_text = ('What do you call a bee that can’t make up its mind? A maybe.')\n",
    "predictions = model.predict(np.array([sample_text]))\n",
    "print(predictions[0])"
   ]
  },
  {
   "cell_type": "code",
   "execution_count": 10,
   "id": "0b761a24",
   "metadata": {
    "execution": {
     "iopub.execute_input": "2022-05-06T20:32:29.118575Z",
     "iopub.status.busy": "2022-05-06T20:32:29.118021Z",
     "iopub.status.idle": "2022-05-06T20:32:29.250139Z",
     "shell.execute_reply": "2022-05-06T20:32:29.249106Z"
    },
    "papermill": {
     "duration": 0.150116,
     "end_time": "2022-05-06T20:32:29.252866",
     "exception": false,
     "start_time": "2022-05-06T20:32:29.102750",
     "status": "completed"
    },
    "tags": []
   },
   "outputs": [
    {
     "name": "stdout",
     "output_type": "stream",
     "text": [
      "[-0.00421236]\n"
     ]
    }
   ],
   "source": [
    "padding = \"the \" * 2000\n",
    "predictions = model.predict(np.array([sample_text, padding]))\n",
    "print(predictions[0])"
   ]
  },
  {
   "cell_type": "code",
   "execution_count": 11,
   "id": "d4de1472",
   "metadata": {
    "execution": {
     "iopub.execute_input": "2022-05-06T20:32:29.284201Z",
     "iopub.status.busy": "2022-05-06T20:32:29.283959Z",
     "iopub.status.idle": "2022-05-06T20:32:29.297008Z",
     "shell.execute_reply": "2022-05-06T20:32:29.296359Z"
    },
    "papermill": {
     "duration": 0.030237,
     "end_time": "2022-05-06T20:32:29.298731",
     "exception": false,
     "start_time": "2022-05-06T20:32:29.268494",
     "status": "completed"
    },
    "tags": []
   },
   "outputs": [],
   "source": [
    "model.compile(loss=tf.keras.losses.BinaryCrossentropy(from_logits=True),\n",
    "              optimizer=tf.keras.optimizers.Adam(1e-4),\n",
    "              metrics=['accuracy'])"
   ]
  },
  {
   "cell_type": "code",
   "execution_count": 12,
   "id": "f0295017",
   "metadata": {
    "execution": {
     "iopub.execute_input": "2022-05-06T20:32:29.329165Z",
     "iopub.status.busy": "2022-05-06T20:32:29.328952Z",
     "iopub.status.idle": "2022-05-06T20:45:56.777887Z",
     "shell.execute_reply": "2022-05-06T20:45:56.776996Z"
    },
    "papermill": {
     "duration": 807.466556,
     "end_time": "2022-05-06T20:45:56.779918",
     "exception": false,
     "start_time": "2022-05-06T20:32:29.313362",
     "status": "completed"
    },
    "tags": []
   },
   "outputs": [
    {
     "name": "stdout",
     "output_type": "stream",
     "text": [
      "Epoch 1/8\n",
      "2188/2188 [==============================] - 66s 24ms/step - loss: 0.2397 - accuracy: 0.8903 - val_loss: 0.1800 - val_accuracy: 0.9276\n"
     ]
    },
    {
     "name": "stderr",
     "output_type": "stream",
     "text": [
      "2022-05-06 20:33:50.766440: W tensorflow/python/util/util.cc:348] Sets are not currently considered sequences, but this may change in the future, so consider avoiding using them.\n"
     ]
    },
    {
     "name": "stdout",
     "output_type": "stream",
     "text": [
      "Epoch 2/8\n",
      "2188/2188 [==============================] - 51s 24ms/step - loss: 0.1805 - accuracy: 0.9271 - val_loss: 0.1760 - val_accuracy: 0.9219\n",
      "Epoch 3/8\n",
      "2188/2188 [==============================] - 53s 24ms/step - loss: 0.1738 - accuracy: 0.9298 - val_loss: 0.1698 - val_accuracy: 0.9297\n",
      "Epoch 4/8\n",
      "2188/2188 [==============================] - 53s 24ms/step - loss: 0.1700 - accuracy: 0.9312 - val_loss: 0.1679 - val_accuracy: 0.9286\n",
      "Epoch 5/8\n",
      "2188/2188 [==============================] - 54s 25ms/step - loss: 0.1669 - accuracy: 0.9323 - val_loss: 0.1675 - val_accuracy: 0.9344\n",
      "Epoch 6/8\n",
      "2188/2188 [==============================] - 53s 24ms/step - loss: 0.1641 - accuracy: 0.9337 - val_loss: 0.1658 - val_accuracy: 0.9276\n",
      "Epoch 7/8\n",
      "2188/2188 [==============================] - 51s 23ms/step - loss: 0.1614 - accuracy: 0.9349 - val_loss: 0.1613 - val_accuracy: 0.9354\n",
      "Epoch 8/8\n",
      "2188/2188 [==============================] - 49s 22ms/step - loss: 0.1586 - accuracy: 0.9356 - val_loss: 0.1619 - val_accuracy: 0.9375\n"
     ]
    }
   ],
   "source": [
    "checkpoint = tf.keras.callbacks.ModelCheckpoint(\"best_model_rnn\",\n",
    "                                            save_best_only=True)\n",
    "stop_early = tf.keras.callbacks.EarlyStopping(monitor='val_loss', patience=3)\n",
    "\n",
    "history = model.fit(train_dataset, epochs=8,\n",
    "                    validation_data=validation_dataset,\n",
    "                    validation_steps=30,callbacks=[stop_early,checkpoint])"
   ]
  }
 ],
 "metadata": {
  "kernelspec": {
   "display_name": "Python 3",
   "language": "python",
   "name": "python3"
  },
  "language_info": {
   "codemirror_mode": {
    "name": "ipython",
    "version": 3
   },
   "file_extension": ".py",
   "mimetype": "text/x-python",
   "name": "python",
   "nbconvert_exporter": "python",
   "pygments_lexer": "ipython3",
   "version": "3.7.12"
  },
  "papermill": {
   "default_parameters": {},
   "duration": 843.271601,
   "end_time": "2022-05-06T20:46:01.657740",
   "environment_variables": {},
   "exception": null,
   "input_path": "__notebook__.ipynb",
   "output_path": "__notebook__.ipynb",
   "parameters": {},
   "start_time": "2022-05-06T20:31:58.386139",
   "version": "2.3.4"
  }
 },
 "nbformat": 4,
 "nbformat_minor": 5
}
